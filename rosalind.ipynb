{
 "cells": [
  {
   "attachments": {},
   "cell_type": "markdown",
   "metadata": {},
   "source": [
    "### Counting DNA Nucleotides"
   ]
  },
  {
   "cell_type": "code",
   "execution_count": 82,
   "metadata": {},
   "outputs": [
    {
     "name": "stdout",
     "output_type": "stream",
     "text": [
      "221 264 248 262\n"
     ]
    }
   ],
   "source": [
    "#open file\n",
    "file = open(\"rosalind_dna.txt\", 'r')\n",
    "#get first line of file\n",
    "s = file.readline()\n",
    "dic = {\"A\":0, \"C\":0, \"G\":0, \"T\":0}\n",
    "while s:\n",
    "    for i in s:\n",
    "        if i == \"\\n\":\n",
    "            break\n",
    "        dic[i] += 1\n",
    "    s = file.readline()\n",
    "print(str(dic[\"A\"]) + \" \" + str(dic[\"C\"]) + \" \" + str(dic[\"G\"]) + \" \" + str(dic[\"T\"]))\n",
    "file.close()"
   ]
  },
  {
   "attachments": {},
   "cell_type": "markdown",
   "metadata": {},
   "source": [
    "### Transcribing DNA into RNA "
   ]
  },
  {
   "cell_type": "code",
   "execution_count": 1,
   "metadata": {},
   "outputs": [
    {
     "name": "stdout",
     "output_type": "stream",
     "text": [
      "ACGGCUGGGCGGAGCCGUUCAAUAUACUAACGGAAACCUGAAUUGCGGCAACUCGGUGGUAUACGCCCAAAAAAAACCAGUCUGCACGGGAUACAGGUAAACCCCCCCCCUAUUUUUACACAUGACGGCAGUUGUCUCUGUCUGAAGUGACGUUAGCGGAAGCUGACCCCCAGCUCUGUCUAACGUGGAGUAGUGUAGUUGGGCGAUUCUAUGUUUACCCUGGACCCGGCAUCGACAGUGCUCGUCCUUUCCCCUGGUUGAUCAGAUGACACUCGCGAAGUAGCUGGCCCUCCCAGAUAGUUUCUUACCGACGAGGUGCGCGUGACGCUGAAGGAACUGAGCUAAAGCGUUAUCUUGAGGGGUCUGCUGCACAAAUCUCGCUCCUGGAUUCUCGGUCACAGGUAUUCCUUCUCUUUCUGUAGUGACCGCUUAUGGGGAAAUAGUAUUUUUUGCUUUUUGACGGGCGUGUACUUGCCAACGCGUCCUCUGCCAACACGGUAGAAAAAAACAUAACCAGACGGCUUACUUCUGACUCAAAGGGCGCUGCUCUUCUGACCACCUAUCAGGAAUUUUCCAGGCCUGGCAUCCGCUACCCGCUUCGCUAGAGAGGUAAAUUAUUGUUAUGUAUAAACUAGGCCGUCUAUGGUCCCCGUGCAAAGUAAUCAAUCGGGUUAGGCCCCGAGGCGAAUGUUCUUACACACCCGUCUCUGAACGUUGCCGUGUCCGCGGCUGCCGCUCCCAUAUUUGGUGCAAAACGCCAGCCCCCUUGUCAGUCCCUGGGCUAGAAAGAGCUGAUCCCCUCAUGAACACUUACUGCGCCCAGGUAGUGUGCCGUGUUAUCCGUAGAGUUUAGACGCACUUACGGGUCGAUAUUCGAAGUGCCUUAACAAAUCUUUGAGGGACCAAGCUCUAACGUCUCCGACUAAAUGGCGAAGCGCGAUUCGUGGCUGGUUAACCGUUAUGGAGCUACCAGUUCACUUAGAAUGCUA\n",
      "\n"
     ]
    }
   ],
   "source": [
    "file = open(\"rosalind_rna.txt\", 'r')\n",
    "s = file.readline()\n",
    "results = \"\"\n",
    "while s:\n",
    "    for i in s:\n",
    "        if i == \"T\":\n",
    "            results += \"U\"\n",
    "            continue\n",
    "        results += i\n",
    "    s = file.readline()\n",
    "print(results)\n",
    "file.close()"
   ]
  },
  {
   "attachments": {},
   "cell_type": "markdown",
   "metadata": {},
   "source": [
    "### Complementing a Strand of DNA"
   ]
  },
  {
   "cell_type": "code",
   "execution_count": 9,
   "metadata": {},
   "outputs": [
    {
     "name": "stdout",
     "output_type": "stream",
     "text": [
      "GTAGTGCGATTTACTGTGATGGAGAATCACATAGCGGGCTGAATAGGGCGGAGAGTTATAATATTTCTTGTTCCTGGGCGGTAGTCTGTGTACACCGAGGCCGTTACCTCATTTGGCCTTACCGCATGCCACGTAAGGTTGGAATCAATCGGCGAACAACTGCAGGGGGCGTAGCACACGTGACGGCGCTGTGGGTCAAATCGCCCGTTATACCGATACCCGTTTCAGCAGTTTCAAGTATCCAATTCAAGACTCAGGTAACTACTTACTATCAACTGTAGACCGGTAATAGGTTTTACTTTAGGTATGTAATAATACCCGCTTGTTATTGGAGCCAGGTAACGATCGTATCTACAACGCAATGGTTCCACTACTTACCTCTCGGGTGAAGGTCTGCCCGTCTGAAGGGGCCAGAGACATTATACAATGCAGTCTCACTTCAAGATGCAACCTGGGGTCGCTTGTTAGACATGTCCAGCTGAATGAACTGGTGCGCTGCTCCTCAGTTAAGGGTGCACTAGACCACCTGTGCGGGAATGTCAACGTACAAGCTAGAGGATAATAGTTTGCCGCGAAGCCTGATATTAAAGCCCGCGGATAGATCTGCCCCGCATGGAGTAGAGGAAATTCCTGTTGCGCTAATAGCCACTCAGATGCTGCTTACCAATCACCAGGCACCCGGTGGCTACAACACCACCTGTCGTACTCGCCGAAGGCGTCACGGAGCTGGGTGTGTAGTACCATATAGTAGAACTATCGAGCGAAACCGACCCGATTTAAGAACCAGTATTTCTAAAAGGGTCCC\n"
     ]
    }
   ],
   "source": [
    "def get_mRNA(three_prime):\n",
    "    i: int = len(three_prime) - 1\n",
    "    results: str = \"\"\n",
    "    while i >= 0:\n",
    "        results += complement(three_prime[i])\n",
    "        i-=1\n",
    "    print(results)\n",
    "    return\n",
    "\n",
    "def complement(i) -> str:\n",
    "    if i == \"A\":\n",
    "        return \"T\"\n",
    "    if i == \"T\":\n",
    "        return \"A\"\n",
    "    if i == \"C\":\n",
    "        return \"G\"\n",
    "    if i == \"G\":\n",
    "        return \"C\"\n",
    "    return \"\"\n",
    "\n",
    "file = open(\"rosalind_revc.txt\", 'r')\n",
    "s = file.readline()\n",
    "while s:\n",
    "    get_mRNA(s)\n",
    "    s = file.readline()\n",
    "file.close()"
   ]
  },
  {
   "attachments": {},
   "cell_type": "markdown",
   "metadata": {},
   "source": [
    "### Computing GC Content"
   ]
  },
  {
   "cell_type": "code",
   "execution_count": 48,
   "metadata": {},
   "outputs": [
    {
     "name": "stdout",
     "output_type": "stream",
     "text": [
      "Rosalind_9462\n",
      "51.431718061674005\n"
     ]
    }
   ],
   "source": [
    "def gccon(dna):\n",
    "    gc = 0\n",
    "    at = 0\n",
    "    for i in dna:\n",
    "        if i == \"A\" or i == \"T\":\n",
    "            at += 1\n",
    "            continue\n",
    "        if i == \"G\" or i == \"C\":\n",
    "            gc += 1\n",
    "    res: float = (gc / (gc + at)) * 100\n",
    "    return res\n",
    "\n",
    "def removenewline(str: str):\n",
    "    for i in str:\n",
    "        if i == \"\\n\" or i == \">\":\n",
    "            str = str.replace(i, \"\")\n",
    "    return str\n",
    "\n",
    "\n",
    "file = open(\"rosalind_gc.txt\", 'r')\n",
    "headers = []\n",
    "dna = []\n",
    "temp: str = \"\"\n",
    "check = True\n",
    "for data in file:\n",
    "    if data[0] == \">\" and check:\n",
    "        check = False\n",
    "        headers.append(data)\n",
    "        continue\n",
    "    if data[0] == \">\":\n",
    "        dna.append(temp)\n",
    "        temp = \"\"\n",
    "        headers.append(data)\n",
    "        continue\n",
    "    temp += data\n",
    "dna.append(temp)\n",
    "file.close()\n",
    "gc: list[float] = []\n",
    "\n",
    "for i in headers:\n",
    "    headers[headers.index(i)] = removenewline(i)\n",
    "\n",
    "for i in dna:\n",
    "    dna[dna.index(i)] = removenewline(i)\n",
    "\n",
    "for i in dna:\n",
    "    gc.append(gccon(i))\n",
    "\n",
    "results = max(gc)\n",
    "print(headers[gc.index(results)])\n",
    "print(results)"
   ]
  },
  {
   "attachments": {},
   "cell_type": "markdown",
   "metadata": {},
   "source": [
    "### Rabbits and Recurrence Relations"
   ]
  },
  {
   "cell_type": "code",
   "execution_count": 61,
   "metadata": {},
   "outputs": [
    {
     "name": "stdout",
     "output_type": "stream",
     "text": [
      "313507166394911\n"
     ]
    }
   ],
   "source": [
    "def fib(n,k):\n",
    "    mem = {1:1, 2:1}\n",
    "    if n > 2:\n",
    "        for i in range(3,n+1):\n",
    "            mem[i] = mem[i - 1] + (k * mem[i - 2])\n",
    "    return mem[n]\n",
    "\n",
    "file = open(\"rosalind_fib.txt\", 'r')\n",
    "s = file.readline()\n",
    "file.close()\n",
    "s = s.strip()\n",
    "k = s[-1]\n",
    "s = s.replace(\" \", \"\")\n",
    "s = s.replace(k, \"\")\n",
    "k = int(k)\n",
    "n = int(s)\n",
    "\n",
    "print(fib(n,k))"
   ]
  },
  {
   "attachments": {},
   "cell_type": "markdown",
   "metadata": {},
   "source": [
    "### Finding a Motif in DNA"
   ]
  },
  {
   "cell_type": "code",
   "execution_count": 66,
   "metadata": {},
   "outputs": [
    {
     "name": "stdout",
     "output_type": "stream",
     "text": [
      "4 95 139 210 217 224 240 259 317 332 368 392 420 438 482 509 540 560 567 672 788 828 843"
     ]
    }
   ],
   "source": [
    "#one index\n",
    "def find_positions(dna, motif) -> list[int]:\n",
    "    results = []\n",
    "    for i in range(len(dna) - len(motif)):\n",
    "        if dna[i:i+len(motif)] == motif:\n",
    "            results.append(i + 1)\n",
    "    return results\n",
    "\n",
    "file = open(\"rosalind_subs.txt\", 'r')\n",
    "dna = file.readline()\n",
    "motif = file.readline()\n",
    "file.close()\n",
    "dna = dna.strip()\n",
    "motif = motif.strip()\n",
    "\n",
    "pos = find_positions(dna, motif)\n",
    "print(pos[0], end=\"\")\n",
    "if len(pos) > 1:\n",
    "    for i in range(1, len(pos)):\n",
    "        print(\" \", end=\"\")\n",
    "        print(pos[i], end=\"\")"
   ]
  },
  {
   "attachments": {},
   "cell_type": "markdown",
   "metadata": {},
   "source": [
    "### Mendel's First Law"
   ]
  },
  {
   "cell_type": "code",
   "execution_count": null,
   "metadata": {},
   "outputs": [],
   "source": [
    "file = open(\"rosalind_subs.txt\", 'r')\n",
    "s = file.readline()\n",
    "file.close()\n",
    "s = s.strip()\n",
    "nums = [int(x) for x in s.split()]\n",
    "k = nums[0]\n",
    "m = nums[1]\n",
    "n = nums[3]"
   ]
  },
  {
   "attachments": {},
   "cell_type": "markdown",
   "metadata": {},
   "source": [
    "### Translating RNA into Protein"
   ]
  },
  {
   "cell_type": "code",
   "execution_count": 70,
   "metadata": {},
   "outputs": [],
   "source": [
    "RNA_Codons = {\n",
    "    # 'M' - START, '_' - STOP\n",
    "    \"GCU\": \"A\", \"GCC\": \"A\", \"GCA\": \"A\", \"GCG\": \"A\",\n",
    "    \"UGU\": \"C\", \"UGC\": \"C\",\n",
    "    \"GAU\": \"D\", \"GAC\": \"D\",\n",
    "    \"GAA\": \"E\", \"GAG\": \"E\",\n",
    "    \"UUU\": \"F\", \"UUC\": \"F\",\n",
    "    \"GGU\": \"G\", \"GGC\": \"G\", \"GGA\": \"G\", \"GGG\": \"G\",\n",
    "    \"CAU\": \"H\", \"CAC\": \"H\",\n",
    "    \"AUA\": \"I\", \"AUU\": \"I\", \"AUC\": \"I\",\n",
    "    \"AAA\": \"K\", \"AAG\": \"K\",\n",
    "    \"UUA\": \"L\", \"UUG\": \"L\", \"CUU\": \"L\", \"CUC\": \"L\", \"CUA\": \"L\", \"CUG\": \"L\",\n",
    "    \"AUG\": \"M\",\n",
    "    \"AAU\": \"N\", \"AAC\": \"N\",\n",
    "    \"CCU\": \"P\", \"CCC\": \"P\", \"CCA\": \"P\", \"CCG\": \"P\",\n",
    "    \"CAA\": \"Q\", \"CAG\": \"Q\",\n",
    "    \"CGU\": \"R\", \"CGC\": \"R\", \"CGA\": \"R\", \"CGG\": \"R\", \"AGA\": \"R\", \"AGG\": \"R\",\n",
    "    \"UCU\": \"S\", \"UCC\": \"S\", \"UCA\": \"S\", \"UCG\": \"S\", \"AGU\": \"S\", \"AGC\": \"S\",\n",
    "    \"ACU\": \"T\", \"ACC\": \"T\", \"ACA\": \"T\", \"ACG\": \"T\",\n",
    "    \"GUU\": \"V\", \"GUC\": \"V\", \"GUA\": \"V\", \"GUG\": \"V\",\n",
    "    \"UGG\": \"W\",\n",
    "    \"UAU\": \"Y\", \"UAC\": \"Y\",\n",
    "    \"UAA\": \"_\", \"UAG\": \"_\", \"UGA\": \"_\"\n",
    "}"
   ]
  },
  {
   "cell_type": "code",
   "execution_count": 74,
   "metadata": {},
   "outputs": [
    {
     "name": "stdout",
     "output_type": "stream",
     "text": [
      "MAEINLQSERTYWAPGILLARNYPTCCMRHVWAAYKGCENSWFLARHSASPGPGSSKWNRQQFKLQFYNHIPGLMGIHLVPMLSFGLWRVWQDEGPLLMIIRLRYVRYGKVYTCPGVASVHNSLCTLISAYIVRGMYWSCFRITDVHDGGTSKLLKLREFMLSAAERTHRDLVLPCSFDQSRSLYRLNRLAPTILVYNSPNPFTTLTLTEAVSLQESNHVLLTTYRHSGSEFATRALPPIRALNLALVADTLAEPLDPPLRLSRVNVTAEIVDTRKIPPFDCVRLLAHFTSRHYLVKVTNQRVRTSSCFALRDLTIETKLTTTYTYTVAGQRPGPMPAWHLLSRTTPSSPEVHLSFLELGAELVRNAPYSTISAHRRITRIVSDPRLLCNELKRFSIVTQGVRGANRPLARTRRIAVSRRREPCTVGNADLDPKQSQPPGAAVITLIDGLRGRRRSNGGHKQSQTCRPLLSIIFWFTGLLDWHSRPLSGRLYRPHCPTSIRRVKEGINGMRRHIYMCVFTSLRPGYKYVVVLCYIPDKIGRRGHFHRLCHAPINRAGAGVKIKMALCPHPTILSIPFPLTAAGVCRIASQIGMAHLLQAELVVDPPNRHLACNELKFGNEIPGFLLPNTHHGCVLGIRESFSVILLCCRFATHVWSSSWLNINCLQCGGPRVVVVGAIVCCPFTTPSITGLLYTTLASYLTLAPHPRVVMRHTIDSRVGISTTAISQLGSGAPAARTPACALHIICISRRSPEREGAKEMKCSTCSKGSIVFNTTLIRDSDGLSSVLTVRARTYYRLQSPDIHSLFRNLTCSCGRSESPSVVRGFARDLSNTAKVKASRVPRYSPLAGLISTGRLPIEAATTGSGTRRGARSCVYVGFVTTKKCTRRLHVSQRLVSGTSAKKETSRHLCGARVLSALKPSSSAYCWKSVPSLRAMREHCPGCYRSVANVVKTEIHKPTGCPDTIVGKNDAALCHLYSPSSRTLLSNGSRSFVSWLKISGPRTMFSGGVPRSLSSRVMCIERCDKGIPVSSSASYLNVLYEREHHVGPVRRAPVRTRLQPTLHDAYRLIQAHRSAAQSEGTALIVRRVGRPSPLGIKKGLNITHNNTASQLGGSIHSTVTAFAVNGLSATKYTDGWRRTMSQAILASPLHKIGALTPTLRTEAHRNLAPLALSNRGRSLGGAASTFRAHNATCMFTPLQGWRVCDGVVVVCRSDTGPFHGTARATGRCSFGHLCAHRRTSIGGSAVRAYRHAFHPPEADIQTGAELQRMMRATRRPCELLQDRRVVLYADTESPLGKHRSCGLKRQILLHAVIRGYGSSTPLSGVEQVFDMPEVNRCSLKSRTNMWGNDARTNLWVQSSTVGGCNHALGVARRGLSFGVEHLSNVGQKGFLARLRRVLQCRDHTHIRWARRDTAYSTEVTIWILTRLYSNYYLSVLGAGLRGLRVRVCSDHTNDVSHLSGFDFTSLCIVFRRSGRYHWVSRILLGVPTASPPKLHRGSCINARERYSRKDNVTKGTMGPAESTAGIGWRQYIRLHCIIGKYPPRDTSLSDIHCINVVEVLVLKTLTPHQALLEVAIQKRSEKVIRWTRYGWVCRRYTLLGLPMMFLPSLTDSDGCDHLQMLYLGSNRGIRDVEASNVMSFIRLLKTTCVIMTMGFGVPVPHWVFETEFSQTSYTQQLPGNSSLIAVRYLDSNRSSSRLIFKSTCETVATLRAAYFLGMWAAPSGRFTKYLARFFFKVFLKRGALSYERGCHSGRRPYKVGASRASDSPTFKSLTLCTSHNERSVHPPALTCPSESWYGLKRARCSQIYTQNSKRIEPDVFQSSQNNTHGVLHNPLRVIEDWAAKITLRTIHLPKSSKMGLHLSRVLSLTAPVREEPTYIVRGHIVLGCCVHVSRMSSFTRLDHDSLPTSLQCRSLVNSCIWSETSHAAHLYWNVLHLYRYGYSWDREGRTDVARPKSELAGSFAVDGSVKSSFNYLETCKLRVHVRSQRGKAWFCFKGLQDVRDCPMVLSWHTGSTYCSVDNTDYDRVTIRFSIVEFSLLIHNNLGSGKYFTGPVNVGLALVLVSHYWRWESEGVSIRICVLILHQYVSDRHESLYPTMTHPPTGLQRFHCAVKIGMQQVEQITRKSLLYTRISSATQSAQQKGCPPPIRTAGQSRSFLPLQGHDPWWIAVASGGRVWSVMLCERMYFTDLATVNLQRRKIGRLGRNWGRRESIKRKSQMSGGGNNHICSESMGRHFSNQQDPDTVLIRGVQESAAEKHHIVDLWVTVVRVAGETRSLRSLHELSNSRRSCLFIDARSSDLSSMIRGSSNFIGRNSLIVFTGKRALASSVLYRGNTINTTFRWFLYKRGEGSTLRASRAVTIEIDRIFLTVHGCGTLSIGVKSRWVDCPQLPSHAASLSSVLLPISSLLWPRHLMHPEISTHACPTIEDSFLMRLHDSCHKFATISKSGRYQPTTAPIQGLLSCYDGFTPQFRPFCHDIRGHRVRNTGLRPARLTGGSVTAGSKSISILFLPMGWLNGRGVSPRDKHVSVARLHIGARTMFGGSGLNCSRYISADALDGPPGGRRFAPIAESCAILIFGPYIVAYRFVYRTTVTCKISPNSNTVGRHRTMGLMSFPAVPIWQSAHGRRVHTYVIRYSMVEATTIKILQSLSFTMHYCAHRYLRPNMVLNRAIITVIRRYLSETLGVVEFRHARFARVSIPWRVFRPWSVRTTRACWKSPLSARSSKHTSHGYCTLICSPSLFDTLVQALTAAVTSIAGNEPCGCHRFSAYCLESCGTTTSSGVAMSGESNGRGVESHFQTPKHPPRKGSSTSKEIGAGDESCYLKYTDVRSQCTMCIPIYELSCETRIIHTQRTYYRCYPGLEQIINTSLHPIRTRFIRIYHIIGGVFGRFWEPQAAVEVPNYVKEPIRATQLRWVQRFVPNFAANVFNFPKALVNSSAGQLLASRAANYKENRSTRFSLLLRIPFLRTNICAKPNSTHQFAETPRRSEDLTLRPGTLDSARRLRGVRPWRSCLSVRSDDHSHDQSSAIGQVVVVALEVCHKRGNMKFTRFYLSLSTAVWTQSFENIRCTMFAPMSPSLFGKGPRAFSDVFCSVRGMRASPTLELIDPPSLRVQPSELCWLAFAVRMDTFDFENRIGGKPYG\n"
     ]
    }
   ],
   "source": [
    "file = open(\"rosalind_prot.txt\", 'r')\n",
    "rna = file.readline()\n",
    "file.close()\n",
    "rna = rna.strip()\n",
    "results = \"\"\n",
    "i = 0 \n",
    "while i < len(rna):\n",
    "    results += RNA_Codons[rna[i:i+3]]\n",
    "    i+=3\n",
    "results = results[0:len(results)-1]\n",
    "print(results)"
   ]
  },
  {
   "attachments": {},
   "cell_type": "markdown",
   "metadata": {},
   "source": [
    "### Counting Point Mutations"
   ]
  },
  {
   "cell_type": "code",
   "execution_count": 75,
   "metadata": {},
   "outputs": [
    {
     "name": "stdout",
     "output_type": "stream",
     "text": [
      "452\n"
     ]
    }
   ],
   "source": [
    "def hamming_distance(motif: str, sequence: str) -> int:\n",
    "    if len(motif) != len(sequence):\n",
    "        raise ValueError(\"motif and sequence different lengths\")\n",
    "    ham_dist: int = 0\n",
    "    for i in range(0,len(motif)):\n",
    "        if motif[i] != sequence[i]:\n",
    "            ham_dist += 1\n",
    "    return ham_dist\n",
    "\n",
    "file = open(\"rosalind_hamm.txt\", 'r')\n",
    "seqone = file.readline()\n",
    "seqtwo = file.readline()\n",
    "file.close()\n",
    "seqone = seqone.strip()\n",
    "seqtwo = seqtwo.strip()\n",
    "\n",
    "print(hamming_distance(seqone,seqtwo))"
   ]
  },
  {
   "attachments": {},
   "cell_type": "markdown",
   "metadata": {},
   "source": [
    "### Calculating Protein Mass"
   ]
  },
  {
   "cell_type": "code",
   "execution_count": 77,
   "metadata": {},
   "outputs": [],
   "source": [
    "Daltons = {\n",
    "    \"A\" : 71.03711,\n",
    "    \"C\" : 103.00919,\n",
    "    \"D\" : 115.02694,\n",
    "    \"E\" :   129.04259,\n",
    "    \"F\" : 147.06841,\n",
    "    \"G\" : 57.02146,\n",
    "    \"H\" : 137.05891,\n",
    "    \"I\" : 113.08406,\n",
    "    \"K\" : 128.09496,\n",
    "    \"L\" : 113.08406,\n",
    "    \"M\" : 131.04049,\n",
    "    \"N\" : 114.04293,\n",
    "    \"P\" : 97.05276,\n",
    "    \"Q\" : 128.05858,\n",
    "    \"R\" : 156.10111,\n",
    "    \"S\" : 87.03203,\n",
    "    \"T\" : 101.04768,\n",
    "    \"V\" : 99.06841,\n",
    "    \"W\" : 186.07931,\n",
    "    \"Y\" : 163.06333 \n",
    "}"
   ]
  },
  {
   "cell_type": "code",
   "execution_count": 78,
   "metadata": {},
   "outputs": [
    {
     "name": "stdout",
     "output_type": "stream",
     "text": [
      "116252.65128000047\n"
     ]
    }
   ],
   "source": [
    "file = open(\"rosalind_prtm.txt\", 'r')\n",
    "seq = file.readline()\n",
    "file.close()\n",
    "seq = seq.strip()\n",
    "results = 0\n",
    "for i in seq:\n",
    "    results += Daltons[i]\n",
    "print(results)"
   ]
  },
  {
   "attachments": {},
   "cell_type": "markdown",
   "metadata": {},
   "source": [
    "### Inferring mRNA from Protein"
   ]
  },
  {
   "cell_type": "code",
   "execution_count": 79,
   "metadata": {},
   "outputs": [],
   "source": [
    "RNA_Codons = {\n",
    "    # 'M' - START, '_' - STOP\n",
    "    \"GCU\": \"A\", \"GCC\": \"A\", \"GCA\": \"A\", \"GCG\": \"A\",\n",
    "    \"UGU\": \"C\", \"UGC\": \"C\",\n",
    "    \"GAU\": \"D\", \"GAC\": \"D\",\n",
    "    \"GAA\": \"E\", \"GAG\": \"E\",\n",
    "    \"UUU\": \"F\", \"UUC\": \"F\",\n",
    "    \"GGU\": \"G\", \"GGC\": \"G\", \"GGA\": \"G\", \"GGG\": \"G\",\n",
    "    \"CAU\": \"H\", \"CAC\": \"H\",\n",
    "    \"AUA\": \"I\", \"AUU\": \"I\", \"AUC\": \"I\",\n",
    "    \"AAA\": \"K\", \"AAG\": \"K\",\n",
    "    \"UUA\": \"L\", \"UUG\": \"L\", \"CUU\": \"L\", \"CUC\": \"L\", \"CUA\": \"L\", \"CUG\": \"L\",\n",
    "    \"AUG\": \"M\",\n",
    "    \"AAU\": \"N\", \"AAC\": \"N\",\n",
    "    \"CCU\": \"P\", \"CCC\": \"P\", \"CCA\": \"P\", \"CCG\": \"P\",\n",
    "    \"CAA\": \"Q\", \"CAG\": \"Q\",\n",
    "    \"CGU\": \"R\", \"CGC\": \"R\", \"CGA\": \"R\", \"CGG\": \"R\", \"AGA\": \"R\", \"AGG\": \"R\",\n",
    "    \"UCU\": \"S\", \"UCC\": \"S\", \"UCA\": \"S\", \"UCG\": \"S\", \"AGU\": \"S\", \"AGC\": \"S\",\n",
    "    \"ACU\": \"T\", \"ACC\": \"T\", \"ACA\": \"T\", \"ACG\": \"T\",\n",
    "    \"GUU\": \"V\", \"GUC\": \"V\", \"GUA\": \"V\", \"GUG\": \"V\",\n",
    "    \"UGG\": \"W\",\n",
    "    \"UAU\": \"Y\", \"UAC\": \"Y\",\n",
    "    \"UAA\": \"_\", \"UAG\": \"_\", \"UGA\": \"_\"\n",
    "}"
   ]
  },
  {
   "cell_type": "code",
   "execution_count": 91,
   "metadata": {},
   "outputs": [
    {
     "name": "stdout",
     "output_type": "stream",
     "text": [
      "201792\n"
     ]
    }
   ],
   "source": [
    "file = open(\"rosalind_mrna.txt\", 'r')\n",
    "seq = file.readline()\n",
    "file.close()\n",
    "seq = seq.strip()\n",
    "ways_of_coding ={}\n",
    "vals = list(RNA_Codons.values())\n",
    "keys = list(RNA_Codons.keys())\n",
    "for i in keys:\n",
    "    if vals[keys.index(i)] not in ways_of_coding:\n",
    "        ways_of_coding[vals[keys.index(i)]] = 1\n",
    "        continue\n",
    "    ways_of_coding[vals[keys.index(i)]] += 1\n",
    "results = 3\n",
    "for i in seq:\n",
    "    \n",
    "    results *= ways_of_coding[i]\n",
    "\n",
    "print(results % 1000000)"
   ]
  },
  {
   "attachments": {},
   "cell_type": "markdown",
   "metadata": {},
   "source": [
    "### Enumerating Gene Orders"
   ]
  },
  {
   "cell_type": "code",
   "execution_count": 110,
   "metadata": {},
   "outputs": [
    {
     "name": "stdout",
     "output_type": "stream",
     "text": [
      "120\n",
      "1 2 3 4 5 \n",
      "1 2 3 5 4 \n",
      "1 2 4 3 5 \n",
      "1 2 4 5 3 \n",
      "1 2 5 3 4 \n",
      "1 2 5 4 3 \n",
      "1 3 2 4 5 \n",
      "1 3 2 5 4 \n",
      "1 3 4 2 5 \n",
      "1 3 4 5 2 \n",
      "1 3 5 2 4 \n",
      "1 3 5 4 2 \n",
      "1 4 2 3 5 \n",
      "1 4 2 5 3 \n",
      "1 4 3 2 5 \n",
      "1 4 3 5 2 \n",
      "1 4 5 2 3 \n",
      "1 4 5 3 2 \n",
      "1 5 2 3 4 \n",
      "1 5 2 4 3 \n",
      "1 5 3 2 4 \n",
      "1 5 3 4 2 \n",
      "1 5 4 2 3 \n",
      "1 5 4 3 2 \n",
      "2 1 3 4 5 \n",
      "2 1 3 5 4 \n",
      "2 1 4 3 5 \n",
      "2 1 4 5 3 \n",
      "2 1 5 3 4 \n",
      "2 1 5 4 3 \n",
      "2 3 1 4 5 \n",
      "2 3 1 5 4 \n",
      "2 3 4 1 5 \n",
      "2 3 4 5 1 \n",
      "2 3 5 1 4 \n",
      "2 3 5 4 1 \n",
      "2 4 1 3 5 \n",
      "2 4 1 5 3 \n",
      "2 4 3 1 5 \n",
      "2 4 3 5 1 \n",
      "2 4 5 1 3 \n",
      "2 4 5 3 1 \n",
      "2 5 1 3 4 \n",
      "2 5 1 4 3 \n",
      "2 5 3 1 4 \n",
      "2 5 3 4 1 \n",
      "2 5 4 1 3 \n",
      "2 5 4 3 1 \n",
      "3 1 2 4 5 \n",
      "3 1 2 5 4 \n",
      "3 1 4 2 5 \n",
      "3 1 4 5 2 \n",
      "3 1 5 2 4 \n",
      "3 1 5 4 2 \n",
      "3 2 1 4 5 \n",
      "3 2 1 5 4 \n",
      "3 2 4 1 5 \n",
      "3 2 4 5 1 \n",
      "3 2 5 1 4 \n",
      "3 2 5 4 1 \n",
      "3 4 1 2 5 \n",
      "3 4 1 5 2 \n",
      "3 4 2 1 5 \n",
      "3 4 2 5 1 \n",
      "3 4 5 1 2 \n",
      "3 4 5 2 1 \n",
      "3 5 1 2 4 \n",
      "3 5 1 4 2 \n",
      "3 5 2 1 4 \n",
      "3 5 2 4 1 \n",
      "3 5 4 1 2 \n",
      "3 5 4 2 1 \n",
      "4 1 2 3 5 \n",
      "4 1 2 5 3 \n",
      "4 1 3 2 5 \n",
      "4 1 3 5 2 \n",
      "4 1 5 2 3 \n",
      "4 1 5 3 2 \n",
      "4 2 1 3 5 \n",
      "4 2 1 5 3 \n",
      "4 2 3 1 5 \n",
      "4 2 3 5 1 \n",
      "4 2 5 1 3 \n",
      "4 2 5 3 1 \n",
      "4 3 1 2 5 \n",
      "4 3 1 5 2 \n",
      "4 3 2 1 5 \n",
      "4 3 2 5 1 \n",
      "4 3 5 1 2 \n",
      "4 3 5 2 1 \n",
      "4 5 1 2 3 \n",
      "4 5 1 3 2 \n",
      "4 5 2 1 3 \n",
      "4 5 2 3 1 \n",
      "4 5 3 1 2 \n",
      "4 5 3 2 1 \n",
      "5 1 2 3 4 \n",
      "5 1 2 4 3 \n",
      "5 1 3 2 4 \n",
      "5 1 3 4 2 \n",
      "5 1 4 2 3 \n",
      "5 1 4 3 2 \n",
      "5 2 1 3 4 \n",
      "5 2 1 4 3 \n",
      "5 2 3 1 4 \n",
      "5 2 3 4 1 \n",
      "5 2 4 1 3 \n",
      "5 2 4 3 1 \n",
      "5 3 1 2 4 \n",
      "5 3 1 4 2 \n",
      "5 3 2 1 4 \n",
      "5 3 2 4 1 \n",
      "5 3 4 1 2 \n",
      "5 3 4 2 1 \n",
      "5 4 1 2 3 \n",
      "5 4 1 3 2 \n",
      "5 4 2 1 3 \n",
      "5 4 2 3 1 \n",
      "5 4 3 1 2 \n",
      "5 4 3 2 1 \n"
     ]
    }
   ],
   "source": [
    "#open output in text editor on vscode\n",
    "\n",
    "import itertools \n",
    "\n",
    "file = open(\"rosalind_perm.txt\", 'r')\n",
    "num = file.readline()\n",
    "file.close()\n",
    "num = num.strip()\n",
    "num = int(num)\n",
    "list_a: list[int] = []\n",
    "n: int = 1\n",
    "\n",
    "while n <= num:\n",
    "    list_a.append(n)\n",
    "    n += 1\n",
    "\n",
    "result_perm: list[list[int]] = []\n",
    "\n",
    "for i in itertools.permutations(list_a):\n",
    "    temp: list[int] = []\n",
    "    for j in i:\n",
    "        temp.append(j) \n",
    "    result_perm.append(temp)\n",
    "\n",
    "print(len(result_perm))\n",
    "\n",
    "for i in result_perm:\n",
    "    for j in i:\n",
    "        print(j, end=\"\")\n",
    "        print(\" \", end=\"\")\n",
    "    print()\n"
   ]
  },
  {
   "attachments": {},
   "cell_type": "markdown",
   "metadata": {},
   "source": [
    "### RNA Splicing"
   ]
  },
  {
   "cell_type": "code",
   "execution_count": 125,
   "metadata": {},
   "outputs": [],
   "source": [
    "DNA_Codons = {\n",
    "    # 'M' - START, '_' - STOP\n",
    "    \"GCT\": \"A\", \"GCC\": \"A\", \"GCA\": \"A\", \"GCG\": \"A\",\n",
    "    \"TGT\": \"C\", \"TGC\": \"C\",\n",
    "    \"GAT\": \"D\", \"GAC\": \"D\",\n",
    "    \"GAA\": \"E\", \"GAG\": \"E\",\n",
    "    \"TTT\": \"F\", \"TTC\": \"F\",\n",
    "    \"GGT\": \"G\", \"GGC\": \"G\", \"GGA\": \"G\", \"GGG\": \"G\",\n",
    "    \"CAT\": \"H\", \"CAC\": \"H\",\n",
    "    \"ATA\": \"I\", \"ATT\": \"I\", \"ATC\": \"I\",\n",
    "    \"AAA\": \"K\", \"AAG\": \"K\",\n",
    "    \"TTA\": \"L\", \"TTG\": \"L\", \"CTT\": \"L\", \"CTC\": \"L\", \"CTA\": \"L\", \"CTG\": \"L\",\n",
    "    \"ATG\": \"M\",\n",
    "    \"AAT\": \"N\", \"AAC\": \"N\",\n",
    "    \"CCT\": \"P\", \"CCC\": \"P\", \"CCA\": \"P\", \"CCG\": \"P\",\n",
    "    \"CAA\": \"Q\", \"CAG\": \"Q\",\n",
    "    \"CGT\": \"R\", \"CGC\": \"R\", \"CGA\": \"R\", \"CGG\": \"R\", \"AGA\": \"R\", \"AGG\": \"R\",\n",
    "    \"TCT\": \"S\", \"TCC\": \"S\", \"TCA\": \"S\", \"TCG\": \"S\", \"AGT\": \"S\", \"AGC\": \"S\",\n",
    "    \"ACT\": \"T\", \"ACC\": \"T\", \"ACA\": \"T\", \"ACG\": \"T\",\n",
    "    \"GTT\": \"V\", \"GTC\": \"V\", \"GTA\": \"V\", \"GTG\": \"V\",\n",
    "    \"TGG\": \"W\",\n",
    "    \"TAT\": \"Y\", \"TAC\": \"Y\",\n",
    "    \"TAA\": \"_\", \"TAG\": \"_\", \"TGA\": \"_\"\n",
    "}\n"
   ]
  },
  {
   "cell_type": "code",
   "execution_count": null,
   "metadata": {},
   "outputs": [],
   "source": [
    "RNA_Codons = {\n",
    "    # 'M' - START, '_' - STOP\n",
    "    \"GCU\": \"A\", \"GCC\": \"A\", \"GCA\": \"A\", \"GCG\": \"A\",\n",
    "    \"UGU\": \"C\", \"UGC\": \"C\",\n",
    "    \"GAU\": \"D\", \"GAC\": \"D\",\n",
    "    \"GAA\": \"E\", \"GAG\": \"E\",\n",
    "    \"UUU\": \"F\", \"UUC\": \"F\",\n",
    "    \"GGU\": \"G\", \"GGC\": \"G\", \"GGA\": \"G\", \"GGG\": \"G\",\n",
    "    \"CAU\": \"H\", \"CAC\": \"H\",\n",
    "    \"AUA\": \"I\", \"AUU\": \"I\", \"AUC\": \"I\",\n",
    "    \"AAA\": \"K\", \"AAG\": \"K\",\n",
    "    \"UUA\": \"L\", \"UUG\": \"L\", \"CUU\": \"L\", \"CUC\": \"L\", \"CUA\": \"L\", \"CUG\": \"L\",\n",
    "    \"AUG\": \"M\",\n",
    "    \"AAU\": \"N\", \"AAC\": \"N\",\n",
    "    \"CCU\": \"P\", \"CCC\": \"P\", \"CCA\": \"P\", \"CCG\": \"P\",\n",
    "    \"CAA\": \"Q\", \"CAG\": \"Q\",\n",
    "    \"CGU\": \"R\", \"CGC\": \"R\", \"CGA\": \"R\", \"CGG\": \"R\", \"AGA\": \"R\", \"AGG\": \"R\",\n",
    "    \"UCU\": \"S\", \"UCC\": \"S\", \"UCA\": \"S\", \"UCG\": \"S\", \"AGU\": \"S\", \"AGC\": \"S\",\n",
    "    \"ACU\": \"T\", \"ACC\": \"T\", \"ACA\": \"T\", \"ACG\": \"T\",\n",
    "    \"GUU\": \"V\", \"GUC\": \"V\", \"GUA\": \"V\", \"GUG\": \"V\",\n",
    "    \"UGG\": \"W\",\n",
    "    \"UAU\": \"Y\", \"UAC\": \"Y\",\n",
    "    \"UAA\": \"_\", \"UAG\": \"_\", \"UGA\": \"_\"\n",
    "}"
   ]
  },
  {
   "cell_type": "code",
   "execution_count": 132,
   "metadata": {},
   "outputs": [
    {
     "name": "stdout",
     "output_type": "stream",
     "text": [
      "MTQSMATTSSGPLR_GDGV\n"
     ]
    }
   ],
   "source": [
    "def dna_to_rna(dna): \n",
    "    rna = \"\"\n",
    "    for i in s:\n",
    "        if i == \"T\":\n",
    "            rna += \"U\"\n",
    "            continue\n",
    "        rna += i\n",
    "    return rna\n",
    "\n",
    "file = open(\"rosalind_splc.txt\", 'r')\n",
    "s = file.readline()\n",
    "s = file.readline()\n",
    "s = s.strip()\n",
    "dna: list[str] = []\n",
    "dna.append(s)\n",
    "i = 1\n",
    "while s:\n",
    "    if not i % 2:\n",
    "        s = s.strip()\n",
    "        dna.append(s)\n",
    "    s = file.readline()\n",
    "    i += 1\n",
    "file.close()\n",
    "\n",
    "for i in dna:\n",
    "    dna[dna.index(i)] = i\n",
    "\n",
    "\n",
    "seq: str = dna.pop(0)\n",
    "for i in dna:\n",
    "    seq = seq.replace(i, \"\")\n",
    "\n",
    "results = \"\"\n",
    "i = 0 \n",
    "while i < len(seq):\n",
    "    results += RNA_Codons[seq[i:i+3]]\n",
    "    i+=3\n",
    "results = results[0:len(results)-1]\n",
    "\n",
    "print(results)"
   ]
  },
  {
   "cell_type": "code",
   "execution_count": null,
   "metadata": {},
   "outputs": [],
   "source": [
    "\"sdfdsf\""
   ]
  }
 ],
 "metadata": {
  "kernelspec": {
   "display_name": "base",
   "language": "python",
   "name": "python3"
  },
  "language_info": {
   "codemirror_mode": {
    "name": "ipython",
    "version": 3
   },
   "file_extension": ".py",
   "mimetype": "text/x-python",
   "name": "python",
   "nbconvert_exporter": "python",
   "pygments_lexer": "ipython3",
   "version": "3.9.7"
  },
  "orig_nbformat": 4,
  "vscode": {
   "interpreter": {
    "hash": "625f4a66d7159b85aff78afd3699ec8fbd03d0d2b7fcfa65e1f956a9b36382e8"
   }
  }
 },
 "nbformat": 4,
 "nbformat_minor": 2
}
